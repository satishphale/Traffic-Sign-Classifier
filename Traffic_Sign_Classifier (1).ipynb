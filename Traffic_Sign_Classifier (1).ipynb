{
 "cells": [
  {
   "cell_type": "markdown",
   "metadata": {},
   "source": [
    "# Self-Driving Car Engineer Nanodegree\n",
    "\n",
    "## Deep Learning\n",
    "\n",
    "## Project: Build a Traffic Sign Recognition Classifier\n",
    "\n",
    "In this notebook, a template is provided for you to implement your functionality in stages, which is required to successfully complete this project. If additional code is required that cannot be included in the notebook, be sure that the Python code is successfully imported and included in your submission if necessary. \n",
    "\n",
    "> **Note**: Once you have completed all of the code implementations, you need to finalize your work by exporting the iPython Notebook as an HTML document. Before exporting the notebook to html, all of the code cells need to have been run so that reviewers can see the final implementation and output. You can then export the notebook by using the menu above and navigating to  \\n\",\n",
    "    \"**File -> Download as -> HTML (.html)**. Include the finished document along with this notebook as your submission. \n",
    "\n",
    "In addition to implementing code, there is a writeup to complete. The writeup should be completed in a separate file, which can be either a markdown file or a pdf document. There is a [write up template](https://github.com/udacity/CarND-Traffic-Sign-Classifier-Project/blob/master/writeup_template.md) that can be used to guide the writing process. Completing the code template and writeup template will cover all of the [rubric points](https://review.udacity.com/#!/rubrics/481/view) for this project.\n",
    "\n",
    "The [rubric](https://review.udacity.com/#!/rubrics/481/view) contains \"Stand Out Suggestions\" for enhancing the project beyond the minimum requirements. The stand out suggestions are optional. If you decide to pursue the \"stand out suggestions\", you can include the code in this Ipython notebook and also discuss the results in the writeup file.\n",
    "\n",
    "\n",
    ">**Note:** Code and Markdown cells can be executed using the **Shift + Enter** keyboard shortcut. In addition, Markdown cells can be edited by typically double-clicking the cell to enter edit mode."
   ]
  },
  {
   "cell_type": "markdown",
   "metadata": {},
   "source": [
    "---\n",
    "## Step 0: Load The Data"
   ]
  },
  {
   "cell_type": "code",
   "execution_count": 1,
   "metadata": {},
   "outputs": [
    {
     "data": {
      "text/plain": [
       "'\\n#only to load dataset from internet\\nfrom urllib.request import urlretrieve\\nimport os\\nimport numpy as np\\nfrom sklearn.preprocessing import LabelBinarizer\\nfrom zipfile import ZipFile\\nimport math\\n\\ndef download(url, file):\\n    if not os.path.isfile(file):\\n        print(\"Download file... \" + file + \" ...\")\\n        urlretrieve(url,file)\\n        print(\"File downloaded\")\\n\\ndownload(\\'https://d17h27t6h515a5.cloudfront.net/topher/2017/February/5898cd6f_traffic-signs-data/traffic-signs-data.zip\\',\\'data.zip\\')\\nprint(\"All the files are downloaded\")\\n'"
      ]
     },
     "execution_count": 1,
     "metadata": {},
     "output_type": "execute_result"
    }
   ],
   "source": [
    "\"\"\"\n",
    "#only to load dataset from internet\n",
    "from urllib.request import urlretrieve\n",
    "import os\n",
    "import numpy as np\n",
    "from sklearn.preprocessing import LabelBinarizer\n",
    "from zipfile import ZipFile\n",
    "import math\n",
    "\n",
    "def download(url, file):\n",
    "    if not os.path.isfile(file):\n",
    "        print(\"Download file... \" + file + \" ...\")\n",
    "        urlretrieve(url,file)\n",
    "        print(\"File downloaded\")\n",
    "\n",
    "download('https://d17h27t6h515a5.cloudfront.net/topher/2017/February/5898cd6f_traffic-signs-data/traffic-signs-data.zip','data.zip')\n",
    "print(\"All the files are downloaded\")\n",
    "\"\"\""
   ]
  },
  {
   "cell_type": "code",
   "execution_count": 2,
   "metadata": {},
   "outputs": [
    {
     "data": {
      "text/plain": [
       "'\"#only to load dataset from internet\\ndef uncompress_features_labels(dir):\\n    if(os.path.isdir(\\'traffic-data\\')):\\n        print(\\'Data extracted\\')\\n    else:\\n        with ZipFile(dir) as zipf:\\n            zipf.extractall(\\'traffic-signs-data\\')\\nuncompress_features_labels(\\'data.zip\\')\\n\\ndef data_Files(mypath):\\n    onlyfiles = [f for f in os.listdir(mypath) if os.path.isfile(os.path.join(mypath, f))]\\n    print(onlyfiles)\\n'"
      ]
     },
     "execution_count": 2,
     "metadata": {},
     "output_type": "execute_result"
    }
   ],
   "source": [
    "\"\"\"\"#only to load dataset from internet\n",
    "def uncompress_features_labels(dir):\n",
    "    if(os.path.isdir('traffic-data')):\n",
    "        print('Data extracted')\n",
    "    else:\n",
    "        with ZipFile(dir) as zipf:\n",
    "            zipf.extractall('traffic-signs-data')\n",
    "uncompress_features_labels('data.zip')\n",
    "\n",
    "def data_Files(mypath):\n",
    "    onlyfiles = [f for f in os.listdir(mypath) if os.path.isfile(os.path.join(mypath, f))]\n",
    "    print(onlyfiles)\n",
    "\"\"\""
   ]
  },
  {
   "cell_type": "code",
   "execution_count": 3,
   "metadata": {},
   "outputs": [
    {
     "name": "stdout",
     "output_type": "stream",
     "text": [
      "Data Loaded from pickle files!\n"
     ]
    }
   ],
   "source": [
    "# Load pickled data\n",
    "import pickle\n",
    "\n",
    "# TODO: Fill this in based on where you saved the training and testing data\n",
    "\n",
    "training_file = './traffic-signs-data/train.p'\n",
    "validation_file='./traffic-signs-data/valid.p'\n",
    "testing_file = './traffic-signs-data/test.p'\n",
    "\n",
    "with open(training_file, mode='rb') as f:\n",
    "    train = pickle.load(f)\n",
    "with open(validation_file, mode='rb') as f:\n",
    "    valid = pickle.load(f)\n",
    "with open(testing_file, mode='rb') as f:\n",
    "    test = pickle.load(f)\n",
    "    \n",
    "X_train, y_train = train['features'], train['labels']\n",
    "X_valid, y_valid = valid['features'], valid['labels']\n",
    "X_test, y_test = test['features'], test['labels']\n",
    "print(\"Data Loaded from pickle files!\")"
   ]
  },
  {
   "cell_type": "markdown",
   "metadata": {},
   "source": [
    "---\n",
    "\n",
    "## Step 1: Dataset Summary & Exploration\n",
    "\n",
    "The pickled data is a dictionary with 4 key/value pairs:\n",
    "\n",
    "- `'features'` is a 4D array containing raw pixel data of the traffic sign images, (num examples, width, height, channels).\n",
    "- `'labels'` is a 1D array containing the label/class id of the traffic sign. The file `signnames.csv` contains id -> name mappings for each id.\n",
    "- `'sizes'` is a list containing tuples, (width, height) representing the original width and height the image.\n",
    "- `'coords'` is a list containing tuples, (x1, y1, x2, y2) representing coordinates of a bounding box around the sign in the image. **THESE COORDINATES ASSUME THE ORIGINAL IMAGE. THE PICKLED DATA CONTAINS RESIZED VERSIONS (32 by 32) OF THESE IMAGES**\n",
    "\n",
    "Complete the basic data summary below. Use python, numpy and/or pandas methods to calculate the data summary rather than hard coding the results. For example, the [pandas shape method](http://pandas.pydata.org/pandas-docs/stable/generated/pandas.DataFrame.shape.html) might be useful for calculating some of the summary results. "
   ]
  },
  {
   "cell_type": "markdown",
   "metadata": {},
   "source": [
    "### Provide a Basic Summary of the Data Set Using Python, Numpy and/or Pandas"
   ]
  },
  {
   "cell_type": "code",
   "execution_count": 4,
   "metadata": {},
   "outputs": [
    {
     "name": "stdout",
     "output_type": "stream",
     "text": [
      "Number of training examples = 34799\n",
      "Number of validation examples = 4410\n",
      "Number of testing examples = 12630\n",
      "Image data shape = (32, 32, 3)\n",
      "Number of classes = 43\n"
     ]
    }
   ],
   "source": [
    "### Replace each question mark with the appropriate value. \n",
    "### Use python, pandas or numpy methods rather than hard coding the results\n",
    "\n",
    "\n",
    "import numpy as np\n",
    "\n",
    "# Number of training examples\n",
    "n_train = np.shape(X_train)[0]\n",
    "\n",
    "# Number of validation examples\n",
    "n_validation = np.shape(X_valid)[0]\n",
    "\n",
    "# Number of testing examples.\n",
    "n_test = np.shape(X_test)[0]\n",
    "\n",
    "# What's the shape of an traffic sign image?\n",
    "image_shape = np.shape(X_train[0])\n",
    "\n",
    "# How many unique classes/labels there are in the dataset.\n",
    "n_classes = len(np.unique(y_train))\n",
    "\n",
    "print(\"Number of training examples =\", n_train)\n",
    "print(\"Number of validation examples =\", n_validation)\n",
    "print(\"Number of testing examples =\", n_test)\n",
    "print(\"Image data shape =\", image_shape)\n",
    "print(\"Number of classes =\", n_classes)"
   ]
  },
  {
   "cell_type": "markdown",
   "metadata": {},
   "source": [
    "### Include an exploratory visualization of the dataset"
   ]
  },
  {
   "cell_type": "markdown",
   "metadata": {},
   "source": [
    "Visualize the German Traffic Signs Dataset using the pickled file(s). This is open ended, suggestions include: plotting traffic sign images, plotting the count of each sign, etc. \n",
    "\n",
    "The [Matplotlib](http://matplotlib.org/) [examples](http://matplotlib.org/examples/index.html) and [gallery](http://matplotlib.org/gallery.html) pages are a great resource for doing visualizations in Python.\n",
    "\n",
    "**NOTE:** It's recommended you start with something simple first. If you wish to do more, come back to it after you've completed the rest of the sections. It can be interesting to look at the distribution of classes in the training, validation and test set. Is the distribution the same? Are there more examples of some classes than others?"
   ]
  },
  {
   "cell_type": "code",
   "execution_count": 5,
   "metadata": {},
   "outputs": [
    {
     "data": {
      "image/png": "[encoded data removed]",
      "text/plain": [
       "<matplotlib.figure.Figure at 0x7fd460863e10>"
      ]
     },
     "metadata": {
      "needs_background": "light"
     },
     "output_type": "display_data"
    }
   ],
   "source": [
    "### Data exploration visualization code goes here.\n",
    "### Feel free to use as many code cells as needed.\n",
    "import matplotlib.pyplot as plt\n",
    "# Visualizations will be shown in the notebook.\n",
    "%matplotlib inline\n",
    "\n",
    "\n",
    "#uni,index,count=np.unique(y_train,return_index=true,return_count=true)\n",
    "class_arr= []\n",
    "samples_arr=[]\n",
    "\n",
    "for class_n in range(n_classes):\n",
    "    class_indices = np.where(y_train == class_n)\n",
    "    n_samples = len(class_indices[0])\n",
    "    class_arr.append(class_n)\n",
    "    samples_arr.append(n_samples)\n",
    "    \n",
    "#plt.hist(y_train,bins=43)\n",
    "plt.bar( class_arr, samples_arr,align='center', alpha=0.5)\n",
    "plt.ylabel('Classes')\n",
    "plt.xlabel('No of Samples')\n",
    "plt.title('Data Visualization')\n",
    "plt.show()"
   ]
  },
  {
   "cell_type": "markdown",
   "metadata": {},
   "source": [
    "----\n",
    "\n",
    "## Step 2: Design and Test a Model Architecture\n",
    "\n",
    "Design and implement a deep learning model that learns to recognize traffic signs. Train and test your model on the [German Traffic Sign Dataset](http://benchmark.ini.rub.de/?section=gtsrb&subsection=dataset).\n",
    "\n",
    "The LeNet-5 implementation shown in the [classroom](https://classroom.udacity.com/nanodegrees/nd013/parts/fbf77062-5703-404e-b60c-95b78b2f3f9e/modules/6df7ae49-c61c-4bb2-a23e-6527e69209ec/lessons/601ae704-1035-4287-8b11-e2c2716217ad/concepts/d4aca031-508f-4e0b-b493-e7b706120f81) at the end of the CNN lesson is a solid starting point. You'll have to change the number of classes and possibly the preprocessing, but aside from that it's plug and play! \n",
    "\n",
    "With the LeNet-5 solution from the lecture, you should expect a validation set accuracy of about 0.89. To meet specifications, the validation set accuracy will need to be at least 0.93. It is possible to get an even higher accuracy, but 0.93 is the minimum for a successful project submission. \n",
    "\n",
    "There are various aspects to consider when thinking about this problem:\n",
    "\n",
    "- Neural network architecture (is the network over or underfitting?)\n",
    "- Play around preprocessing techniques (normalization, rgb to grayscale, etc)\n",
    "- Number of examples per label (some have more than others).\n",
    "- Generate fake data.\n",
    "\n",
    "Here is an example of a [published baseline model on this problem](http://yann.lecun.com/exdb/publis/pdf/sermanet-ijcnn-11.pdf). It's not required to be familiar with the approach used in the paper but, it's good practice to try to read papers like these."
   ]
  },
  {
   "cell_type": "markdown",
   "metadata": {},
   "source": [
    "### Pre-process the Data Set (normalization, grayscale, etc.)"
   ]
  },
  {
   "cell_type": "markdown",
   "metadata": {},
   "source": [
    "Minimally, the image data should be normalized so that the data has mean zero and equal variance. For image data, `(pixel - 128)/ 128` is a quick way to approximately normalize the data and can be used in this project. \n",
    "\n",
    "Other pre-processing steps are optional. You can try different techniques to see if it improves performance. \n",
    "\n",
    "Use the code cell (or multiple code cells, if necessary) to implement the first step of your project."
   ]
  },
  {
   "cell_type": "code",
   "execution_count": 6,
   "metadata": {},
   "outputs": [
    {
     "data": {
      "text/plain": [
       "'\\nX_train_rgb = X_train\\nX_train_gray = np.sum(X_train/3,axis = 3,keepdims = True)\\nprint(\"Train RGB shape \",X_train_rgb.shape)\\nprint(\"Train GRAY shape \",X_train_gray.shape)\\n\\n\\nX_valid_rgb = X_valid\\nX_valid_gray = np.sum(X_valid/3,axis = 3,keepdims = True)\\nprint(\"Valid RGB shape \",X_valid_rgb.shape)\\nprint(\"Valid Gray shape \",X_valid_gray.shape)\\n\\nX_test_rgb = X_test\\nX_test_gray= np.sum(X_test/3, axis= 3,keepdims = True)\\nprint(\"Test RGB shape \",X_test_rgb.shape)\\nprint(\"Test Gray shape \",X_test_gray.shape)\\n\\nX_train = X_train_gray\\nX_valid = X_valid_gray\\nX_test = X_test_gray\\n\\n#Normalizing the test,validation and train set\\nX_train_normalize = (X_train -128)/128\\nX_valid_normalize = (X_valid-128)/ 128\\nX_test_normalize = (X_test- 128) / 128\\n\\nprint(X_train.shape)\\n'"
      ]
     },
     "execution_count": 6,
     "metadata": {},
     "output_type": "execute_result"
    }
   ],
   "source": [
    "### Preprocess the data here. It is required to normalize the data. Other preprocessing steps could include \n",
    "### converting to grayscale, etc.\n",
    "### Feel free to use as many code cells as needed.\n",
    "\"\"\"\n",
    "X_train_rgb = X_train\n",
    "X_train_gray = np.sum(X_train/3,axis = 3,keepdims = True)\n",
    "print(\"Train RGB shape \",X_train_rgb.shape)\n",
    "print(\"Train GRAY shape \",X_train_gray.shape)\n",
    "\n",
    "\n",
    "X_valid_rgb = X_valid\n",
    "X_valid_gray = np.sum(X_valid/3,axis = 3,keepdims = True)\n",
    "print(\"Valid RGB shape \",X_valid_rgb.shape)\n",
    "print(\"Valid Gray shape \",X_valid_gray.shape)\n",
    "\n",
    "X_test_rgb = X_test\n",
    "X_test_gray= np.sum(X_test/3, axis= 3,keepdims = True)\n",
    "print(\"Test RGB shape \",X_test_rgb.shape)\n",
    "print(\"Test Gray shape \",X_test_gray.shape)\n",
    "\n",
    "X_train = X_train_gray\n",
    "X_valid = X_valid_gray\n",
    "X_test = X_test_gray\n",
    "\n",
    "#Normalizing the test,validation and train set\n",
    "X_train_normalize = (X_train -128)/128\n",
    "X_valid_normalize = (X_valid-128)/ 128\n",
    "X_test_normalize = (X_test- 128) / 128\n",
    "\n",
    "print(X_train.shape)\n",
    "\"\"\""
   ]
  },
  {
   "cell_type": "code",
   "execution_count": 7,
   "metadata": {},
   "outputs": [],
   "source": [
    "from sklearn.utils import shuffle\n",
    "\n",
    "#Normalizing the test,validation and train set\n",
    "X_train_normalize = (X_train -128)/128\n",
    "X_valid_normalize = (X_valid-128)/ 128\n",
    "X_test_normalize = (X_test- 128) / 128\n",
    "\n",
    "\n",
    "X_train, y_train = shuffle(X_train, y_train)\n"
   ]
  },
  {
   "cell_type": "markdown",
   "metadata": {},
   "source": [
    "### Model Architecture"
   ]
  },
  {
   "cell_type": "code",
   "execution_count": 9,
   "metadata": {},
   "outputs": [],
   "source": [
    "### Define your architecture here.\n",
    "### Feel free to use as many code cells as needed.\n",
    "import tensorflow as tf\n",
    "\n",
    "EPOCHS = 50\n",
    "BATCH_SIZE = 128"
   ]
  },
  {
   "cell_type": "code",
   "execution_count": 10,
   "metadata": {},
   "outputs": [],
   "source": [
    "from tensorflow.contrib.layers import flatten\n",
    "\n",
    "def LeNet(x):\n",
    "    mu = 0\n",
    "    sigma = 0.1\n",
    "    \n",
    "    # Layer 1: Convolutional. Input = 32x32x1. Output = 28x28x6.\n",
    "    conv1_W= tf.Variable(tf.truncated_normal(shape=(5,5,3,6), mean=mu, stddev=sigma))\n",
    "    conv1_b= tf.Variable(tf.zeros(6))\n",
    "    conv1= tf.nn.conv2d(x,conv1_W,strides=[1,1,1,1],padding='VALID',use_cudnn_on_gpu=True) + conv1_b\n",
    "\n",
    "    # Activation.\n",
    "    conv1= tf.nn.relu(conv1)\n",
    "\n",
    "    # Layer 2: Convolutional. Input = 28x28x6. Output = 14x14x10.\n",
    "    conv3_W= tf.Variable(tf.truncated_normal(shape=(5,5,6,10), mean=mu, stddev=sigma))\n",
    "    conv3_b= tf.Variable(tf.zeros(10))\n",
    "    conv3= tf.nn.conv2d(conv1,conv3_W,strides=[1,2,2,1],padding='VALID',use_cudnn_on_gpu=True) + conv3_b\n",
    "\n",
    "    # Activation.\n",
    "    conv3= tf.nn.relu(conv3)\n",
    "\n",
    "    # Layer 3: Convolutional. Input = 14x14x10. Output = 8x8x16.\n",
    "    conv2_W= tf.Variable(tf.truncated_normal(shape=(5,5,10,16),mean=mu,stddev=sigma))\n",
    "    conv2_b=tf.Variable(tf.zeros(16))\n",
    "    conv2= tf.nn.conv2d(conv3,conv2_W,strides=[1,1,1,1],padding='VALID',use_cudnn_on_gpu=True) + conv2_b\n",
    "    \n",
    "    # Activation.\n",
    "    conv2= tf.nn.relu(conv2)\n",
    "\n",
    "    # Pooling. Input = 8x8x16. Output = 4x4x16.\n",
    "    conv2= tf.nn.max_pool(conv2,ksize=[1,2,2,1],strides=[1,2,2,1],padding='VALID')\n",
    "\n",
    "    # Flatten. Input = 4x4x16. Output = 256.\n",
    "    f= flatten(conv2)\n",
    "\n",
    "    # Layer 4: Fully Connected. Input = 256. Output = 120.\n",
    "    fc1_W= tf.Variable(tf.truncated_normal(shape=(int(np.shape(f)[1]),120),mean=mu,stddev=sigma))\n",
    "    fc1_b= tf.Variable(tf.zeros(shape=120))\n",
    "    fc1= tf.matmul(f,fc1_W) + fc1_b\n",
    "    \n",
    "    # Activation.\n",
    "    fc1= tf.nn.relu(fc1)\n",
    "    \n",
    "    # Introduce Dropout after first fully connected layer\n",
    "    fc1 = tf.nn.dropout(fc1, keep_prob)\n",
    "\n",
    "    # Layer 5: Fully Connected. Input = 120. Output = 100.\n",
    "    fc2_W= tf.Variable(tf.truncated_normal(shape=(120,100),mean=mu,stddev=sigma))\n",
    "    fc2_b= tf.Variable(tf.zeros(100))\n",
    "    fc2= tf.matmul(fc1,fc2_W) + fc2_b\n",
    "    \n",
    "    # Activation.\n",
    "    fc2= tf.nn.relu(fc2)\n",
    "    \n",
    "    # Layer 6: Fully Connected. Input = 100. Output = 84.\n",
    "    fc4_W= tf.Variable(tf.truncated_normal(shape=(100,84),mean=mu,stddev=sigma))\n",
    "    fc4_b= tf.Variable(tf.zeros(84))\n",
    "    fc4= tf.matmul(fc2,fc4_W) + fc4_b\n",
    "    \n",
    "    # Activation.\n",
    "    fc4= tf.nn.relu(fc4)\n",
    "    \n",
    "    # Layer 7: Fully Connected. Input = 84. Output = 43.\n",
    "    fc3_W= tf.Variable(tf.truncated_normal(shape=(84,43),mean=mu,stddev=sigma))\n",
    "    fc3_b= tf.Variable(tf.zeros(43))\n",
    "    fc3= tf.matmul(fc4,fc3_W) + fc3_b\n",
    "    logits=fc3\n",
    "        \n",
    "    return logits"
   ]
  },
  {
   "cell_type": "code",
   "execution_count": 11,
   "metadata": {},
   "outputs": [
    {
     "name": "stdout",
     "output_type": "stream",
     "text": [
      "Variables initialized successfully\n"
     ]
    }
   ],
   "source": [
    "x = tf.placeholder(tf.float32, (None, 32, 32, 3))\n",
    "y = tf.placeholder(tf.int32, (None))\n",
    "one_hot_y = tf.one_hot(y, 43) # one hot encoding for output labels\n",
    "keep_prob = tf.placeholder(tf.float32) # defining the dropout probability after fully connected layer in the architecture\n",
    "print('Variables initialized successfully')"
   ]
  },
  {
   "cell_type": "markdown",
   "metadata": {},
   "source": [
    "### Train, Validate and Test the Model"
   ]
  },
  {
   "cell_type": "markdown",
   "metadata": {},
   "source": [
    "A validation set can be used to assess how well the model is performing. A low accuracy on the training and validation\n",
    "sets imply underfitting. A high accuracy on the training set but low accuracy on the validation set implies overfitting."
   ]
  },
  {
   "cell_type": "code",
   "execution_count": 18,
   "metadata": {},
   "outputs": [],
   "source": [
    "\n",
    "rate = 0.0009 #learning rate\n",
    "\n",
    "#defining various operations\n",
    "logits = LeNet(x) \n",
    "cross_entropy = tf.nn.softmax_cross_entropy_with_logits(labels=one_hot_y, logits=logits)\n",
    "loss_operation = tf.reduce_mean(cross_entropy)\n",
    "optimizer = tf.train.AdamOptimizer(learning_rate = rate)\n",
    "training_operation = optimizer.minimize(loss_operation)"
   ]
  },
  {
   "cell_type": "code",
   "execution_count": 19,
   "metadata": {},
   "outputs": [],
   "source": [
    "\n",
    "correct_prediction = tf.equal(tf.argmax(logits, 1), tf.argmax(one_hot_y, 1))\n",
    "accuracy_operation = tf.reduce_mean(tf.cast(correct_prediction, tf.float32))\n",
    "saver = tf.train.Saver()\n",
    "\n",
    "def evaluate(X_data, y_data):\n",
    "    num_examples = len(X_data)\n",
    "    total_accuracy = 0\n",
    "    total_loss=0\n",
    "    sess = tf.get_default_session()\n",
    "    for offset in range(0, num_examples, BATCH_SIZE):\n",
    "        batch_x, batch_y = X_data[offset:offset+BATCH_SIZE], y_data[offset:offset+BATCH_SIZE]\n",
    "        accuracy,loss = sess.run([accuracy_operation,loss_operation],feed_dict={x: batch_x, y: batch_y,keep_prob:1})\n",
    "        total_accuracy += (accuracy * len(batch_x))\n",
    "        total_loss+= (loss*len(batch_x)) # getting the total loss to plot a graph later\n",
    "    return total_accuracy / num_examples, total_loss/num_examples"
   ]
  },
  {
   "cell_type": "code",
   "execution_count": 20,
   "metadata": {},
   "outputs": [
    {
     "name": "stdout",
     "output_type": "stream",
     "text": [
      "Training...\n",
      "\n",
      "EPOCH 1 ...\n",
      "Validation Accuracy = (0.70816326514393291, 1.1338165420523576)\n",
      "\n",
      "EPOCH 2 ...\n",
      "Validation Accuracy = (0.86167800404857886, 0.58511179607201058)\n",
      "\n",
      "EPOCH 3 ...\n",
      "Validation Accuracy = (0.88662131443585934, 0.42328353423515414)\n",
      "\n",
      "EPOCH 4 ...\n",
      "Validation Accuracy = (0.92086167827485099, 0.35255561754817055)\n",
      "\n",
      "EPOCH 5 ...\n",
      "Validation Accuracy = (0.92947845753628655, 0.3056192451914827)\n",
      "\n",
      "EPOCH 6 ...\n",
      "Validation Accuracy = (0.92517006802721091, 0.2846244670467582)\n",
      "\n",
      "EPOCH 7 ...\n",
      "Validation Accuracy = (0.9365079354807363, 0.2468013170836261)\n",
      "\n",
      "EPOCH 8 ...\n",
      "Validation Accuracy = (0.93854875283446715, 0.23932009326302511)\n",
      "\n",
      "EPOCH 9 ...\n",
      "Validation Accuracy = (0.94467120208437483, 0.23266616373168739)\n",
      "\n",
      "EPOCH 10 ...\n",
      "Validation Accuracy = (0.93492063492063493, 0.25104610179360881)\n",
      "\n",
      "EPOCH 11 ...\n",
      "Validation Accuracy = (0.95442176870748296, 0.22995110576557387)\n",
      "\n",
      "EPOCH 12 ...\n",
      "Validation Accuracy = (0.94693877551020411, 0.2220995035414508)\n",
      "\n",
      "EPOCH 13 ...\n",
      "Validation Accuracy = (0.95351473922902497, 0.21105625137563713)\n",
      "\n",
      "EPOCH 14 ...\n",
      "Validation Accuracy = (0.95487528344671202, 0.20832350584900095)\n",
      "\n",
      "EPOCH 15 ...\n",
      "Validation Accuracy = (0.95827664399092971, 0.19450432360600084)\n",
      "\n",
      "EPOCH 16 ...\n",
      "Validation Accuracy = (0.9555555555555556, 0.20480688740435962)\n",
      "\n",
      "EPOCH 17 ...\n",
      "Validation Accuracy = (0.94648526104129094, 0.2645773425964133)\n",
      "\n",
      "EPOCH 18 ...\n",
      "Validation Accuracy = (0.95895691609977329, 0.19606034766577496)\n",
      "\n",
      "EPOCH 19 ...\n",
      "Validation Accuracy = (0.96213151927437646, 0.2059462997234465)\n",
      "\n",
      "EPOCH 20 ...\n",
      "Validation Accuracy = (0.95895691609977329, 0.20487266488741135)\n",
      "\n",
      "EPOCH 21 ...\n",
      "Validation Accuracy = (0.96190476190476193, 0.17906743646176324)\n",
      "\n",
      "EPOCH 22 ...\n",
      "Validation Accuracy = (0.95759637188208613, 0.20255779774881721)\n",
      "\n",
      "EPOCH 23 ...\n",
      "Validation Accuracy = (0.9503401360544218, 0.26097142946860324)\n",
      "\n",
      "EPOCH 24 ...\n",
      "Validation Accuracy = (0.95396825396825402, 0.24715012273403497)\n",
      "\n",
      "EPOCH 25 ...\n",
      "Validation Accuracy = (0.95079365079365075, 0.23671851562096863)\n",
      "\n",
      "EPOCH 26 ...\n",
      "Validation Accuracy = (0.94172335600907031, 0.30087123163711177)\n",
      "\n",
      "EPOCH 27 ...\n",
      "Validation Accuracy = (0.95759637188208613, 0.20424979592305162)\n",
      "\n",
      "EPOCH 28 ...\n",
      "Validation Accuracy = (0.95396825396825402, 0.24930075347676842)\n",
      "\n",
      "EPOCH 29 ...\n",
      "Validation Accuracy = (0.95963718820861676, 0.19781411081170261)\n",
      "\n",
      "EPOCH 30 ...\n",
      "Validation Accuracy = (0.95850340136054424, 0.24350634658739906)\n",
      "\n",
      "EPOCH 31 ...\n",
      "Validation Accuracy = (0.95850340136054424, 0.25546106969727123)\n",
      "\n",
      "EPOCH 32 ...\n",
      "Validation Accuracy = (0.95192743764172338, 0.25730671787959453)\n",
      "\n",
      "EPOCH 33 ...\n",
      "Validation Accuracy = (0.96303854875283446, 0.25348741704072014)\n",
      "\n",
      "EPOCH 34 ...\n",
      "Validation Accuracy = (0.96621315192743762, 0.1758904220914371)\n",
      "\n",
      "EPOCH 35 ...\n",
      "Validation Accuracy = (0.95668934240362813, 0.23054643808663344)\n",
      "\n",
      "EPOCH 36 ...\n",
      "Validation Accuracy = (0.95532879818594107, 0.2768794084054208)\n",
      "\n",
      "EPOCH 37 ...\n",
      "Validation Accuracy = (0.9573696145124716, 0.25088002252607211)\n",
      "\n",
      "EPOCH 38 ...\n",
      "Validation Accuracy = (0.95782312925170066, 0.23686476422878974)\n",
      "\n",
      "EPOCH 39 ...\n",
      "Validation Accuracy = (0.96054421768707487, 0.19663724064187604)\n",
      "\n",
      "EPOCH 40 ...\n",
      "Validation Accuracy = (0.96281179138321993, 0.19376601913031571)\n",
      "\n",
      "EPOCH 41 ...\n",
      "Validation Accuracy = (0.95986394557823129, 0.22337784887536793)\n",
      "\n",
      "EPOCH 42 ...\n",
      "Validation Accuracy = (0.95510204081632655, 0.28814643152791897)\n",
      "\n",
      "EPOCH 43 ...\n",
      "Validation Accuracy = (0.96054421768707487, 0.24097446466705125)\n",
      "\n",
      "EPOCH 44 ...\n",
      "Validation Accuracy = (0.95532879818594107, 0.28941474426363073)\n",
      "\n",
      "EPOCH 45 ...\n",
      "Validation Accuracy = (0.9625850340136054, 0.23822293946883258)\n",
      "\n",
      "EPOCH 46 ...\n",
      "Validation Accuracy = (0.95487528344671202, 0.26669239465280148)\n",
      "\n",
      "EPOCH 47 ...\n",
      "Validation Accuracy = (0.96825396825396826, 0.19431459379029115)\n",
      "\n",
      "EPOCH 48 ...\n",
      "Validation Accuracy = (0.95714285714285718, 0.27774359533643228)\n",
      "\n",
      "EPOCH 49 ...\n",
      "Validation Accuracy = (0.9625850340136054, 0.22417011657490035)\n",
      "\n",
      "EPOCH 50 ...\n",
      "Validation Accuracy = (0.96780045378505508, 0.17671174570801634)\n",
      "\n",
      "Model saved\n"
     ]
    }
   ],
   "source": [
    "with tf.Session() as sess:\n",
    "    sess.run(tf.global_variables_initializer())\n",
    "    num_examples = len(X_train)\n",
    "    \n",
    "    print(\"Training...\")\n",
    "    print()\n",
    "    for i in range(EPOCHS):\n",
    "        for offset in range(0, num_examples, BATCH_SIZE):\n",
    "            end = offset + BATCH_SIZE\n",
    "            batch_x, batch_y = X_train[offset:end], y_train[offset:end]\n",
    "            #print(batch_y.shape)\n",
    "            sess.run(training_operation, feed_dict={x: batch_x, y: batch_y, keep_prob: 0.5})\n",
    "            \n",
    "        validation_accuracy = evaluate(X_valid, y_valid)\n",
    "        print(\"EPOCH {} ...\".format(i+1))\n",
    "        print(\"Validation Accuracy = {}\".format(validation_accuracy))\n",
    "        print()\n",
    "        \n",
    "    saver.save(sess, 'lenet')\n",
    "    print(\"Model saved\")"
   ]
  },
  {
   "cell_type": "markdown",
   "metadata": {},
   "source": [
    "---\n",
    "\n",
    "## Step 3: Test a Model on New Images\n",
    "\n",
    "To give yourself more insight into how your model is working, download at least five pictures of German traffic signs from the web and use your model to predict the traffic sign type.\n",
    "\n",
    "You may find `signnames.csv` useful as it contains mappings from the class id (integer) to the actual sign name."
   ]
  },
  {
   "cell_type": "markdown",
   "metadata": {},
   "source": [
    "### Load and Output the Images"
   ]
  },
  {
   "cell_type": "code",
   "execution_count": 21,
   "metadata": {},
   "outputs": [
    {
     "data": {
      "image/png": "[encoded data removed]",
      "text/plain": [
       "<matplotlib.figure.Figure at 0x7fd481173c18>"
      ]
     },
     "metadata": {
      "needs_background": "light"
     },
     "output_type": "display_data"
    },
    {
     "data": {
      "image/png": "[encoded data removed]",
      "text/plain": [
       "<matplotlib.figure.Figure at 0x7fd3a842ddd8>"
      ]
     },
     "metadata": {
      "needs_background": "light"
     },
     "output_type": "display_data"
    },
    {
     "data": {
      "image/png": "[encoded data removed]",
      "text/plain": [
       "<matplotlib.figure.Figure at 0x7fd39bf497f0>"
      ]
     },
     "metadata": {
      "needs_background": "light"
     },
     "output_type": "display_data"
    },
    {
     "data": {
      "image/png": "[encoded data removed]",
      "text/plain": [
       "<matplotlib.figure.Figure at 0x7fd39bfb8198>"
      ]
     },
     "metadata": {
      "needs_background": "light"
     },
     "output_type": "display_data"
    },
    {
     "data": {
      "image/png": "[encoded data removed]",
      "text/plain": [
       "<matplotlib.figure.Figure at 0x7fd39016b0b8>"
      ]
     },
     "metadata": {
      "needs_background": "light"
     },
     "output_type": "display_data"
    }
   ],
   "source": [
    "### Load the images and plot them here.\n",
    "### Feel free to use as many code cells as needed.\n",
    "import os\n",
    "import matplotlib.image as mpimg\n",
    "import cv2\n",
    "\n",
    "my_images = []\n",
    "\n",
    "for i, img in enumerate(os.listdir('new_data')):\n",
    "    image = cv2.imread('new_data/' + img)\n",
    "    my_images.append(image)\n",
    "    plt.figure()\n",
    "    plt.xlabel(img)\n",
    "    plt.imshow(image)\n",
    "\n",
    "\n",
    "\n",
    "my_images = np.asarray(my_images)"
   ]
  },
  {
   "cell_type": "markdown",
   "metadata": {},
   "source": [
    "### Predict the Sign Type for Each Image"
   ]
  },
  {
   "cell_type": "code",
   "execution_count": 26,
   "metadata": {},
   "outputs": [
    {
     "name": "stdout",
     "output_type": "stream",
     "text": [
      "INFO:tensorflow:Restoring parameters from ./lenet\n",
      "Test Accuracy = 0.600\n"
     ]
    }
   ],
   "source": [
    "### Run the predictions here and use the model to output the prediction for each image.\n",
    "### Make sure to pre-process the images with the same pre-processing pipeline used earlier.\n",
    "### Feel free to use as many code cells as needed.\n",
    "\n",
    "my_labels = [29,22,35, 31, 17]\n",
    "# Check Test Accuracy\n",
    "\n",
    "with tf.Session() as sess:\n",
    "    saver.restore(sess, tf.train.latest_checkpoint('.'))\n",
    "    output_accuracy = evaluate(my_images, my_labels)\n",
    "    print(\"Test Accuracy = {:.3f}\".format(output_accuracy[0]))"
   ]
  },
  {
   "cell_type": "markdown",
   "metadata": {},
   "source": [
    "### Analyze Performance"
   ]
  },
  {
   "cell_type": "code",
   "execution_count": 27,
   "metadata": {},
   "outputs": [
    {
     "name": "stdout",
     "output_type": "stream",
     "text": [
      "INFO:tensorflow:Restoring parameters from ./lenet\n"
     ]
    },
    {
     "data": {
      "image/png": "[encoded data removed]",
      "text/plain": [
       "<matplotlib.figure.Figure at 0x7fd329e0e198>"
      ]
     },
     "metadata": {
      "needs_background": "light"
     },
     "output_type": "display_data"
    }
   ],
   "source": [
    "### Calculate the accuracy for these 5 new images. \n",
    "### For example, if the model predicted 1 out of 5 signs correctly, it's 20% accurate on these new images.\n",
    "softmax_logits = tf.nn.softmax(logits)\n",
    "top_k = tf.nn.top_k(softmax_logits, k=5)\n",
    "\n",
    "\n",
    "with tf.Session() as sess:\n",
    "    sess.run(tf.global_variables_initializer())\n",
    "    saver = tf.train.import_meta_graph('./lenet.meta')\n",
    "    saver.restore(sess, \"./lenet\")\n",
    "    my_softmax_logits = sess.run(softmax_logits, feed_dict={x: my_images, keep_prob: 1.0})\n",
    "    my_top_k = sess.run(top_k, feed_dict={x: my_images, keep_prob: 1.0})\n",
    "\n",
    "    \n",
    "    fig, axs = plt.subplots(len(my_images),4, figsize=(12, 14))\n",
    "    fig.subplots_adjust(hspace = .4, wspace=.2)\n",
    "    axs = axs.ravel()\n",
    "\n",
    "    for i, image in enumerate(my_images):\n",
    "        axs[4*i].axis('off')\n",
    "        axs[4*i].imshow(cv2.cvtColor(image, cv2.COLOR_BGR2RGB))\n",
    "        axs[4*i].set_title('input')\n",
    "        guess1 = my_top_k[1][i][0]\n",
    "        index1 = np.argwhere(y_valid == guess1)[0]\n",
    "        axs[4*i+1].axis('off')\n",
    "        axs[4*i+1].imshow(X_valid[index1].squeeze(), cmap='gray')\n",
    "        axs[4*i+1].set_title('top guess: {} ({:.0f}%)'.format(guess1, 100*my_top_k[0][i][0]))\n",
    "        guess2 = my_top_k[1][i][1]\n",
    "        index2 = np.argwhere(y_valid == guess2)[0]\n",
    "        axs[4*i+2].axis('off')\n",
    "        axs[4*i+2].imshow(X_valid[index2].squeeze(), cmap='gray')\n",
    "        axs[4*i+2].set_title('2nd guess: {} ({:.0f}%)'.format(guess2, 100*my_top_k[0][i][1]))\n",
    "        guess3 = my_top_k[1][i][2]\n",
    "        index3 = np.argwhere(y_valid == guess3)[0]\n",
    "        axs[4*i+3].axis('off')\n",
    "        axs[4*i+3].imshow(X_valid[index3].squeeze(), cmap='gray')\n",
    "        axs[4*i+3].set_title('3rd guess: {} ({:.0f}%)'.format(guess3, 100*my_top_k[0][i][2]))"
   ]
  },
  {
   "cell_type": "markdown",
   "metadata": {},
   "source": [
    "### Output Top 5 Softmax Probabilities For Each Image Found on the Web"
   ]
  },
  {
   "cell_type": "markdown",
   "metadata": {},
   "source": [
    "For each of the new images, print out the model's softmax probabilities to show the **certainty** of the model's predictions (limit the output to the top 5 probabilities for each image). [`tf.nn.top_k`](https://www.tensorflow.org/versions/r0.12/api_docs/python/nn.html#top_k) could prove helpful here. \n",
    "\n",
    "The example below demonstrates how tf.nn.top_k can be used to find the top k predictions for each image.\n",
    "\n",
    "`tf.nn.top_k` will return the values and indices (class ids) of the top k predictions. So if k=3, for each sign, it'll return the 3 largest probabilities (out of a possible 43) and the correspoding class ids.\n",
    "\n",
    "Take this numpy array as an example. The values in the array represent predictions. The array contains softmax probabilities for five candidate images with six possible classes. `tf.nn.top_k` is used to choose the three classes with the highest probability:\n",
    "\n",
    "```\n",
    "# (5, 6) array\n",
    "a = np.array([[ 0.24879643,  0.07032244,  0.12641572,  0.34763842,  0.07893497,\n",
    "         0.12789202],\n",
    "       [ 0.28086119,  0.27569815,  0.08594638,  0.0178669 ,  0.18063401,\n",
    "         0.15899337],\n",
    "       [ 0.26076848,  0.23664738,  0.08020603,  0.07001922,  0.1134371 ,\n",
    "         0.23892179],\n",
    "       [ 0.11943333,  0.29198961,  0.02605103,  0.26234032,  0.1351348 ,\n",
    "         0.16505091],\n",
    "       [ 0.09561176,  0.34396535,  0.0643941 ,  0.16240774,  0.24206137,\n",
    "         0.09155967]])\n",
    "```\n",
    "\n",
    "Running it through `sess.run(tf.nn.top_k(tf.constant(a), k=3))` produces:\n",
    "\n",
    "```\n",
    "TopKV2(values=array([[ 0.34763842,  0.24879643,  0.12789202],\n",
    "       [ 0.28086119,  0.27569815,  0.18063401],\n",
    "       [ 0.26076848,  0.23892179,  0.23664738],\n",
    "       [ 0.29198961,  0.26234032,  0.16505091],\n",
    "       [ 0.34396535,  0.24206137,  0.16240774]]), indices=array([[3, 0, 5],\n",
    "       [0, 1, 4],\n",
    "       [0, 5, 1],\n",
    "       [1, 3, 5],\n",
    "       [1, 4, 3]], dtype=int32))\n",
    "```\n",
    "\n",
    "Looking just at the first row we get `[ 0.34763842,  0.24879643,  0.12789202]`, you can confirm these are the 3 largest probabilities in `a`. You'll also notice `[3, 0, 5]` are the corresponding indices."
   ]
  },
  {
   "cell_type": "code",
   "execution_count": 24,
   "metadata": {},
   "outputs": [
    {
     "name": "stdout",
     "output_type": "stream",
     "text": [
      "INFO:tensorflow:Restoring parameters from ./lenet\n",
      "[[  4.01276546e-37   0.00000000e+00   0.00000000e+00   5.12712499e-28\n",
      "    0.00000000e+00   5.03491863e-38   0.00000000e+00   0.00000000e+00\n",
      "    0.00000000e+00   4.86532967e-29   0.00000000e+00   2.52409356e-19\n",
      "    8.06475075e-27   2.27521216e-25   0.00000000e+00   1.37033829e-26\n",
      "    3.70815691e-38   0.00000000e+00   9.65349982e-26   7.35066005e-35\n",
      "    3.68029840e-22   1.39693224e-36   2.00652905e-24   1.32051888e-18\n",
      "    3.90252645e-25   6.66530469e-29   3.65923868e-32   1.30225555e-32\n",
      "    9.99999762e-01   2.05217205e-07   6.13249472e-16   2.14061224e-32\n",
      "    4.12789673e-34   0.00000000e+00   4.56164057e-27   6.51012636e-16\n",
      "    1.55147278e-23   4.49463612e-28   1.98027087e-25   7.24687781e-24\n",
      "    1.14731556e-21   5.90872148e-27   0.00000000e+00]\n",
      " [  1.58898697e-12   7.59156340e-18   5.57790450e-27   6.27038712e-24\n",
      "    7.52155523e-23   8.23942007e-21   8.67707913e-19   1.60994924e-26\n",
      "    1.69397441e-22   1.10791046e-28   8.01012864e-25   2.24396743e-07\n",
      "    2.39146544e-16   5.80492671e-20   1.01008724e-23   6.75302601e-19\n",
      "    3.55419610e-28   1.58193218e-27   9.88949835e-01   8.12156479e-19\n",
      "    1.99198636e-13   2.04821566e-15   6.28944271e-13   2.75848036e-14\n",
      "    1.91487487e-07   7.59932742e-11   1.01827958e-04   1.09222429e-02\n",
      "    2.56054882e-05   1.06223173e-11   2.03119327e-13   2.70336885e-17\n",
      "    8.38159007e-16   2.38900419e-23   8.67127943e-21   2.82340857e-16\n",
      "    1.33874812e-12   1.57307276e-21   7.99998796e-18   1.34793433e-22\n",
      "    9.75705092e-20   3.51504856e-16   7.38611024e-20]\n",
      " [  1.19928870e-22   8.67468506e-28   2.43718005e-24   1.32508027e-19\n",
      "    2.36854148e-37   1.84313927e-28   0.00000000e+00   4.71417508e-25\n",
      "    4.07595822e-22   3.28039332e-19   3.60359550e-24   5.20657285e-29\n",
      "    1.48105306e-23   2.46795027e-17   2.48623337e-33   3.23009662e-15\n",
      "    2.93437595e-25   4.61743134e-30   2.35693762e-33   4.01382047e-38\n",
      "    1.62949023e-20   3.50793659e-37   1.29346338e-24   1.83021085e-30\n",
      "    0.00000000e+00   1.41244698e-26   4.41343351e-31   0.00000000e+00\n",
      "    1.97390255e-21   3.52566993e-23   0.00000000e+00   6.80338822e-35\n",
      "    4.68346344e-28   4.42585667e-17   1.06133342e-12   1.00000000e+00\n",
      "    4.30833541e-16   3.22626346e-17   7.91210698e-14   1.66718140e-24\n",
      "    2.81555373e-17   6.46726746e-28   3.19148186e-28]\n",
      " [  7.29350706e-18   4.42309686e-17   3.70145224e-15   3.24434156e-22\n",
      "    9.94187125e-29   5.31380667e-16   1.04080275e-28   1.03849224e-25\n",
      "    1.93545991e-30   1.05016937e-31   4.51333976e-20   1.52375823e-09\n",
      "    3.74764646e-20   1.32169422e-28   4.25177398e-22   2.83979507e-33\n",
      "    4.79711783e-35   6.04286616e-32   8.37982861e-06   4.33663949e-08\n",
      "    5.15212290e-17   1.41833916e-05   6.81895810e-14   1.84796733e-07\n",
      "    2.38046930e-12   5.76067762e-03   5.52820848e-22   3.21173379e-15\n",
      "    7.69234874e-18   1.67675430e-13   8.68673284e-14   9.94216442e-01\n",
      "    0.00000000e+00   1.85212018e-30   2.77152647e-25   3.09836707e-25\n",
      "    8.32981133e-37   1.81616954e-18   1.06220641e-19   1.22907922e-17\n",
      "    7.33644451e-20   1.38795308e-36   3.04727005e-34]\n",
      " [  0.00000000e+00   0.00000000e+00   0.00000000e+00   0.00000000e+00\n",
      "    0.00000000e+00   0.00000000e+00   0.00000000e+00   0.00000000e+00\n",
      "    0.00000000e+00   0.00000000e+00   0.00000000e+00   0.00000000e+00\n",
      "    0.00000000e+00   0.00000000e+00   0.00000000e+00   0.00000000e+00\n",
      "    0.00000000e+00   1.00000000e+00   0.00000000e+00   0.00000000e+00\n",
      "    0.00000000e+00   0.00000000e+00   0.00000000e+00   0.00000000e+00\n",
      "    0.00000000e+00   0.00000000e+00   1.75867587e-35   0.00000000e+00\n",
      "    0.00000000e+00   0.00000000e+00   0.00000000e+00   0.00000000e+00\n",
      "    0.00000000e+00   0.00000000e+00   2.88764492e-35   0.00000000e+00\n",
      "    0.00000000e+00   0.00000000e+00   0.00000000e+00   0.00000000e+00\n",
      "    0.00000000e+00   0.00000000e+00   0.00000000e+00]]\n",
      "TopKV2(values=array([[  9.99999762e-01,   2.05217205e-07,   6.51012636e-16,\n",
      "          6.13249472e-16,   1.32051888e-18],\n",
      "       [  9.88949835e-01,   1.09222429e-02,   1.01827958e-04,\n",
      "          2.56054882e-05,   2.24396743e-07],\n",
      "       [  1.00000000e+00,   1.06133342e-12,   7.91210698e-14,\n",
      "          3.23009662e-15,   4.30833541e-16],\n",
      "       [  9.94216442e-01,   5.76067762e-03,   1.41833916e-05,\n",
      "          8.37982861e-06,   1.84796733e-07],\n",
      "       [  1.00000000e+00,   2.88764492e-35,   1.75867587e-35,\n",
      "          0.00000000e+00,   0.00000000e+00]], dtype=float32), indices=array([[28, 29, 35, 30, 23],\n",
      "       [18, 27, 26, 28, 11],\n",
      "       [35, 34, 38, 15, 36],\n",
      "       [31, 25, 21, 18, 23],\n",
      "       [17, 34, 26,  0,  1]], dtype=int32))\n"
     ]
    }
   ],
   "source": [
    "### Print out the top five softmax probabilities for the predictions on the German traffic sign images found on the web. \n",
    "### Feel free to use as many code cells as needed.\n",
    "softmax_logits = tf.nn.softmax(logits)\n",
    "top_k = tf.nn.top_k(softmax_logits, k=5)\n",
    "\n",
    "\n",
    "with tf.Session() as sess:\n",
    "    sess.run(tf.global_variables_initializer())\n",
    "    saver.restore(sess, tf.train.latest_checkpoint('.'))\n",
    "    my_softmax_logits = sess.run(softmax_logits, feed_dict={x: my_images, keep_prob: 1.0})\n",
    "    my_top_k = sess.run(top_k, feed_dict={x: my_images, keep_prob: 1.0})\n",
    "    print(my_softmax_logits)\n",
    "    print(my_top_k)"
   ]
  },
  {
   "cell_type": "markdown",
   "metadata": {},
   "source": [
    "### Project Writeup\n",
    "\n",
    "Once you have completed the code implementation, document your results in a project writeup using this [template](https://github.com/udacity/CarND-Traffic-Sign-Classifier-Project/blob/master/writeup_template.md) as a guide. The writeup can be in a markdown or pdf file. "
   ]
  },
  {
   "cell_type": "markdown",
   "metadata": {},
   "source": [
    "> **Note**: Once you have completed all of the code implementations and successfully answered each question above, you may finalize your work by exporting the iPython Notebook as an HTML document. You can do this by using the menu above and navigating to  \\n\",\n",
    "    \"**File -> Download as -> HTML (.html)**. Include the finished document along with this notebook as your submission."
   ]
  },
  {
   "cell_type": "markdown",
   "metadata": {},
   "source": [
    "---\n",
    "\n",
    "## Step 4 (Optional): Visualize the Neural Network's State with Test Images\n",
    "\n",
    " This Section is not required to complete but acts as an additional excersise for understaning the output of a neural network's weights. While neural networks can be a great learning device they are often referred to as a black box. We can understand what the weights of a neural network look like better by plotting their feature maps. After successfully training your neural network you can see what it's feature maps look like by plotting the output of the network's weight layers in response to a test stimuli image. From these plotted feature maps, it's possible to see what characteristics of an image the network finds interesting. For a sign, maybe the inner network feature maps react with high activation to the sign's boundary outline or to the contrast in the sign's painted symbol.\n",
    "\n",
    " Provided for you below is the function code that allows you to get the visualization output of any tensorflow weight layer you want. The inputs to the function should be a stimuli image, one used during training or a new one you provided, and then the tensorflow variable name that represents the layer's state during the training process, for instance if you wanted to see what the [LeNet lab's](https://classroom.udacity.com/nanodegrees/nd013/parts/fbf77062-5703-404e-b60c-95b78b2f3f9e/modules/6df7ae49-c61c-4bb2-a23e-6527e69209ec/lessons/601ae704-1035-4287-8b11-e2c2716217ad/concepts/d4aca031-508f-4e0b-b493-e7b706120f81) feature maps looked like for it's second convolutional layer you could enter conv2 as the tf_activation variable.\n",
    "\n",
    "For an example of what feature map outputs look like, check out NVIDIA's results in their paper [End-to-End Deep Learning for Self-Driving Cars](https://devblogs.nvidia.com/parallelforall/deep-learning-self-driving-cars/) in the section Visualization of internal CNN State. NVIDIA was able to show that their network's inner weights had high activations to road boundary lines by comparing feature maps from an image with a clear path to one without. Try experimenting with a similar test to show that your trained network's weights are looking for interesting features, whether it's looking at differences in feature maps from images with or without a sign, or even what feature maps look like in a trained network vs a completely untrained one on the same sign image.\n",
    "\n",
    "<figure>\n",
    " <img src=\"visualize_cnn.png\" width=\"380\" alt=\"Combined Image\" />\n",
    " <figcaption>\n",
    " <p></p> \n",
    " <p style=\"text-align: center;\"> Your output should look something like this (above)</p> \n",
    " </figcaption>\n",
    "</figure>\n",
    " <p></p> \n"
   ]
  },
  {
   "cell_type": "code",
   "execution_count": null,
   "metadata": {},
   "outputs": [],
   "source": [
    "### Visualize your network's feature maps here.\n",
    "### Feel free to use as many code cells as needed.\n",
    "\n",
    "# image_input: the test image being fed into the network to produce the feature maps\n",
    "# tf_activation: should be a tf variable name used during your training procedure that represents the calculated state of a specific weight layer\n",
    "# activation_min/max: can be used to view the activation contrast in more detail, by default matplot sets min and max to the actual min and max values of the output\n",
    "# plt_num: used to plot out multiple different weight feature map sets on the same block, just extend the plt number for each new feature map entry\n",
    "\n",
    "def outputFeatureMap(image_input, tf_activation, activation_min=-1, activation_max=-1 ,plt_num=1):\n",
    "    # Here make sure to preprocess your image_input in a way your network expects\n",
    "    # with size, normalization, ect if needed\n",
    "    # image_input =\n",
    "    # Note: x should be the same name as your network's tensorflow data placeholder variable\n",
    "    # If you get an error tf_activation is not defined it may be having trouble accessing the variable from inside a function\n",
    "    activation = tf_activation.eval(session=sess,feed_dict={x : image_input})\n",
    "    featuremaps = activation.shape[3]\n",
    "    plt.figure(plt_num, figsize=(15,15))\n",
    "    for featuremap in range(featuremaps):\n",
    "        plt.subplot(6,8, featuremap+1) # sets the number of feature maps to show on each row and column\n",
    "        plt.title('FeatureMap ' + str(featuremap)) # displays the feature map number\n",
    "        if activation_min != -1 & activation_max != -1:\n",
    "            plt.imshow(activation[0,:,:, featuremap], interpolation=\"nearest\", vmin =activation_min, vmax=activation_max, cmap=\"gray\")\n",
    "        elif activation_max != -1:\n",
    "            plt.imshow(activation[0,:,:, featuremap], interpolation=\"nearest\", vmax=activation_max, cmap=\"gray\")\n",
    "        elif activation_min !=-1:\n",
    "            plt.imshow(activation[0,:,:, featuremap], interpolation=\"nearest\", vmin=activation_min, cmap=\"gray\")\n",
    "        else:\n",
    "            plt.imshow(activation[0,:,:, featuremap], interpolation=\"nearest\", cmap=\"gray\")"
   ]
  }
 ],
 "metadata": {
  "anaconda-cloud": {},
  "kernelspec": {
   "display_name": "Python 3",
   "language": "python",
   "name": "python3"
  },
  "language_info": {
   "codemirror_mode": {
    "name": "ipython",
    "version": 3
   },
   "file_extension": ".py",
   "mimetype": "text/x-python",
   "name": "python",
   "nbconvert_exporter": "python",
   "pygments_lexer": "ipython3",
   "version": "3.6.3"
  }
 },
 "nbformat": 4,
 "nbformat_minor": 1
}
